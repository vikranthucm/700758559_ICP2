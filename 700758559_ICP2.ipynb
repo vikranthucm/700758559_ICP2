{
  "nbformat": 4,
  "nbformat_minor": 0,
  "metadata": {
    "colab": {
      "provenance": []
    },
    "kernelspec": {
      "name": "python3",
      "display_name": "Python 3"
    },
    "language_info": {
      "name": "python"
    }
  },
  "cells": [
    {
      "cell_type": "markdown",
      "source": [
        "Vikranth Reddy Thirumala\n",
        "\n",
        "700758559\n",
        "\n",
        "1.Create a class Employee and then do the following:\n",
        "\n",
        "• Create a data member to count the number of Employees\n",
        "\n",
        "• Create a constructor to initialize name, family, salary, department\n",
        "\n",
        "• Create a function to average salary\n",
        "\n",
        "• Create a Fulltime Employee class and it should inherit the properties of Employee class\n",
        "\n",
        "• Create the instances of Fulltime Employee class and Employee class and call their member functions."
      ],
      "metadata": {
        "id": "2C-nkSwj-fTW"
      }
    },
    {
      "cell_type": "code",
      "source": [
        "class Employee:\n",
        "    employee_count = 0  # Data member to count the number of Employees\n",
        "\n",
        "    def __init__(self, name, family, salary, department):\n",
        "        self.name = name\n",
        "        self.family = family\n",
        "        self.salary = salary\n",
        "        self.department = department\n",
        "        Employee.employee_count += 1\n",
        "\n",
        "    def average_salary(self, total_salary):\n",
        "        return total_salary / Employee.employee_count\n",
        "\n",
        "class FulltimeEmployee(Employee):\n",
        "    # Inheriting properties from the Employee class\n",
        "    pass\n",
        "\n",
        "# Creating instances of Employee class\n",
        "employee1 = Employee(\"Sai Ram\", \"Uppalapati\", 100000, \"Manager\")\n",
        "employee2 = Employee(\"Venkat\", \"Uppalapati\", 90000, \"IT\")\n",
        "\n",
        "# Creating instances of FulltimeEmployee class\n",
        "fulltime_employee1 = FulltimeEmployee(\"Madhavi\", \"Uppalapati\", 75000, \"Finance\")\n",
        "fulltime_employee2 = FulltimeEmployee(\"Nandhu\", \"Nandini\", 60000, \"Marketing\")\n",
        "\n",
        "# Calling member functions\n",
        "total_salary_employees = employee1.salary + employee2.salary\n",
        "average_salary_employees = employee1.average_salary(total_salary_employees)\n",
        "\n",
        "total_salary_fulltime_employees = fulltime_employee1.salary + fulltime_employee2.salary\n",
        "average_salary_fulltime_employees = fulltime_employee1.average_salary(total_salary_fulltime_employees)\n",
        "\n",
        "# Displaying results\n",
        "print(\"Average Salary for Employees:\", average_salary_employees)\n",
        "print(\"Average Salary for Fulltime Employees:\", average_salary_fulltime_employees)\n",
        "\n"
      ],
      "metadata": {
        "colab": {
          "base_uri": "https://localhost:8080/"
        },
        "id": "OgrMHPWh-qmU",
        "outputId": "b5c03b67-cb6a-4b02-ccb1-770758c017ba"
      },
      "execution_count": 1,
      "outputs": [
        {
          "output_type": "stream",
          "name": "stdout",
          "text": [
            "Average Salary for Employees: 47500.0\n",
            "Average Salary for Fulltime Employees: 33750.0\n"
          ]
        }
      ]
    },
    {
      "cell_type": "markdown",
      "source": [
        "2.Numpy\n",
        "\n",
        "Using NumPy create random vector of size 20 having only float in the range 1-20.\n",
        "\n",
        "Then reshape the array to 4 by 5\n",
        "\n",
        "Then replace the max in each row by 0 (axis=1)"
      ],
      "metadata": {
        "id": "NVS9eASk_C4r"
      }
    },
    {
      "cell_type": "code",
      "source": [
        "# Import the NumPy library and alias it as 'np' for brevity and convention.\n",
        "import numpy as np\n",
        "\n",
        "# Create a random vector of size 20 with floats in the range 1-20\n",
        "random_vector = np.random.uniform(1, 20, 20)\n",
        "\n",
        "print(\"Original Random Vector:\\n\", random_vector)"
      ],
      "metadata": {
        "colab": {
          "base_uri": "https://localhost:8080/"
        },
        "id": "ZPpGGice_JcY",
        "outputId": "3b1d66a9-a861-4aa2-bf72-f2361f3993f2"
      },
      "execution_count": 6,
      "outputs": [
        {
          "output_type": "stream",
          "name": "stdout",
          "text": [
            "Original Random Vector:\n",
            " [ 6.65642661  7.69225756 18.73437165 19.36234067 16.83242973 19.33578929\n",
            " 11.02394867 17.4898039  18.89160035  2.33628585  3.6735787  17.96372376\n",
            " 18.95709591  2.58718871  3.38511527 19.10582994 13.3366162   9.93303247\n",
            "  5.64069407 15.06626796]\n"
          ]
        }
      ]
    },
    {
      "cell_type": "code",
      "source": [
        "# Reshape the array to 4 by 5 (4 rows and 5 columns)\n",
        "reshaped_array = random_vector.reshape(4, 5)\n",
        "\n",
        "print(reshaped_array)"
      ],
      "metadata": {
        "colab": {
          "base_uri": "https://localhost:8080/"
        },
        "id": "NfhOak0E_Vsw",
        "outputId": "ca7c30ad-e64a-4cf4-bc82-46219129d03e"
      },
      "execution_count": 3,
      "outputs": [
        {
          "output_type": "stream",
          "name": "stdout",
          "text": [
            "[[10.81728371  9.8083229  19.25639332 13.70327927  8.50656585]\n",
            " [17.0482618  16.94650923 14.56784185  1.79132324 19.57735231]\n",
            " [ 7.81462763 10.15078766 16.59223712  8.66864088  7.61637472]\n",
            " [14.99408277 16.45624546 17.92200752 13.87972128  6.90624646]]\n"
          ]
        }
      ]
    },
    {
      "cell_type": "code",
      "source": [
        "# Replace the max in each row by 0 (axis=1)\n",
        "reshaped_array[np.arange(4), reshaped_array.argmax(axis=1)] = 0\n",
        "\n",
        "print(\"Reshaped Array:\\n\", reshaped_array)"
      ],
      "metadata": {
        "colab": {
          "base_uri": "https://localhost:8080/"
        },
        "id": "rEmk37qO_yIk",
        "outputId": "434c8f77-eed4-43cc-bd99-fb719e579d32"
      },
      "execution_count": 7,
      "outputs": [
        {
          "output_type": "stream",
          "name": "stdout",
          "text": [
            "Reshaped Array:\n",
            " [[10.81728371  9.8083229   0.         13.70327927  8.50656585]\n",
            " [17.0482618  16.94650923 14.56784185  1.79132324  0.        ]\n",
            " [ 7.81462763 10.15078766  0.          8.66864088  7.61637472]\n",
            " [14.99408277 16.45624546  0.         13.87972128  6.90624646]]\n"
          ]
        }
      ]
    }
  ]
}